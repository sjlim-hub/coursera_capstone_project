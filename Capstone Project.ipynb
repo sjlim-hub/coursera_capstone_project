{
    "cells": [
        {
            "metadata": {
                "collapsed": true
            },
            "cell_type": "markdown",
            "source": "## Capstone Project for Sun Lim\n---\n**Welcome!**\nThis notebook is my Capstone Project for The Applied Data Science course on Coursera.\n\nThe focus will be: **Selecting the Ideal Neighborhood for a Restaurant in Chicago, Illinois**"
        },
        {
            "metadata": {},
            "cell_type": "markdown",
            "source": "### Introduction / Business Problem\n-------\n\nAccording to the [Chicago.gov website](https://www.chicago.gov/city/en/about/facts.html), Chicago, Illinois is the third largest city in the United States. With a large city comes a large population! With over **7,000** restaurants present, Chicago presents a ripe opportunity for businesses interested in the food service industry.\n\n[The National Restaurant Industry](https://restaurant.org/research/restaurant-statistics/restaurant-industry-facts-at-a-glance) indicates a projected restaurant industry revenue of nearly $899 billion for 2020. This indicates a growth of almost $36 billion compared to compared to 2019, according to their [factbook](https://www.restaurant.org/downloads/pdfs/research/soi/restaurant_industry_fact_sheet_2019.pdf). With continued projected growth, established and new restaurants may wish to expand their business to other locations.\n\nWith the above in mind, restaurateurs or franchise owners may wish to open up their business in the city of Chicago. However, there are several factors to choosing an ideal location:\n- Access to transportation\n- Nearby venues\n- Competition\n\nQuestions to be answered:\n- Are there specific neighborhoods in Chicago with easier access to transportation than others?\n- Which neighborhoods frequent restaurants?\n\nUsing data science, we will examine neighborhoods around Chicago, Illinois and nearby venues to provide a suggestion for an ideal spot."
        },
        {
            "metadata": {},
            "cell_type": "markdown",
            "source": "### Data\n------\n\n* Neighborhood data will be acquired using pandas from the following Wikipedia page: [Chicago Neighborhoods](https://en.wikipedia.org/wiki/List_of_neighborhoods_in_Chicago). \n* **[Geopy](https://geopy.readthedocs.io/en/stable/#)** will be used to extract coordinates for each neighborhood.\n* **[Foursquare API](https://developer.foursquare.com/places)** will be used to collect latitude and longitude values for venues near each of our neighborhoods for mapping. \n* Bar charts will be used to compare neighborhood statistics against eachother, due to neighborhoods being categorical.\n* K-means clustering will be used to investigate patterns in similar neighborhoods. The resulting data will be mapped using matplotlib.\n* Libraries used, and previously mentioned, will be sourced from pandas, numpy, scikitlearn, matplotlib, and geopy.\n* Tables will be presented for any miscellaneous data which is not visualized."
        },
        {
            "metadata": {},
            "cell_type": "code",
            "source": "#sample importing pandas and numpy\nimport pandas as pd\nimport numpy as np",
            "execution_count": 5,
            "outputs": []
        },
        {
            "metadata": {},
            "cell_type": "code",
            "source": "#sample preparing geopy\n!pip install geopy\nfrom geopy.geocoders import Nominatim\ngeolocator = Nominatim(user_agent=\"foursquare_agent_slim\")",
            "execution_count": 6,
            "outputs": [
                {
                    "output_type": "stream",
                    "text": "Requirement already satisfied: geopy in /opt/conda/envs/Python36/lib/python3.6/site-packages (1.18.1)\nRequirement already satisfied: geographiclib<2,>=1.49 in /opt/conda/envs/Python36/lib/python3.6/site-packages (from geopy) (1.49)\n",
                    "name": "stdout"
                }
            ]
        },
        {
            "metadata": {},
            "cell_type": "code",
            "source": "#sample of geopy\nlocation = geolocator.geocode(\"Albany Park, Chicago, Illinois\")\nprint(location.latitude, location.longitude)",
            "execution_count": 7,
            "outputs": [
                {
                    "output_type": "stream",
                    "text": "41.9719367 -87.7161739\n",
                    "name": "stdout"
                }
            ]
        }
    ],
    "metadata": {
        "kernelspec": {
            "name": "python3",
            "display_name": "Python 3.6",
            "language": "python"
        },
        "language_info": {
            "name": "python",
            "version": "3.6.9",
            "mimetype": "text/x-python",
            "codemirror_mode": {
                "name": "ipython",
                "version": 3
            },
            "pygments_lexer": "ipython3",
            "nbconvert_exporter": "python",
            "file_extension": ".py"
        }
    },
    "nbformat": 4,
    "nbformat_minor": 1
}