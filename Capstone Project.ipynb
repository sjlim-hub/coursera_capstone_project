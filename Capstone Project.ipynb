{
    "cells": [
        {
            "metadata": {
                "collapsed": true
            },
            "cell_type": "markdown",
            "source": "## Capstone Project for Sun Lim\n---\n**Welcome!**\nThis notebook is my Capstone Project for The Applied Data Science course on Coursera.\n\nThe focus will be: **Selecting the Ideal Neighborhood for a Restaurant in Chicago, Illinois**"
        },
        {
            "metadata": {},
            "cell_type": "markdown",
            "source": "### Introduction / Business Problem\n-------\n\nAccording to the [Chicago.gov website](https://www.chicago.gov/city/en/about/facts.html), Chicago, Illinois is the third largest city in the United States. With over **7,000** restaurants present, the competition is incredible. \n\nAs a budding entrepreneur, **Client A** wishes to expand their growing franchise and setup a restaurant in the city of Chicago. There are several factors to choosing an ideal location:\n- Access to transportation\n- Nearby venues\n- Competition\n\n**Client A** has requested advice on choosing the best location for their restaurant. Using data science, I will examine neighborhoods around Chicago, Illinois and nearby venues to provide a suggestion for an ideal spot."
        },
        {
            "metadata": {},
            "cell_type": "markdown",
            "source": "### Data\n------\n\n* Neighborhood data will be acquired using pandas from the following Wikipedia page: [Chicago Neighborhoods](https://en.wikipedia.org/wiki/List_of_neighborhoods_in_Chicago). \n* **Geopy** will be used to extract coordinates for each neighborhood.\n* **Foursquare API** will be used to collect latitude and longitude values for venues near each of our neighborhoods for mapping. \n* Bar charts will be used to compare neighborhood statistics against eachother, due to neighborhoods being categorical.\n* K-means clustering will be used to investigate patterns in similar neighborhoods. The resulting data will be mapped using matplotlib.\n* Libraries used, and previously mentioned, will be sourced from pandas, numpy, scikitlearn, matplotlib, and geopy.\n* Tables will be presented for any miscellaneous data which is not visualized."
        },
        {
            "metadata": {},
            "cell_type": "code",
            "source": "#sample importing pandas and numpy\nimport pandas as pd\nimport numpy as np",
            "execution_count": 5,
            "outputs": []
        },
        {
            "metadata": {},
            "cell_type": "code",
            "source": "#sample preparing geopy\n!pip install geopy\nfrom geopy.geocoders import Nominatim\ngeolocator = Nominatim(user_agent=\"foursquare_agent_slim\")",
            "execution_count": 6,
            "outputs": [
                {
                    "output_type": "stream",
                    "text": "Requirement already satisfied: geopy in /opt/conda/envs/Python36/lib/python3.6/site-packages (1.18.1)\nRequirement already satisfied: geographiclib<2,>=1.49 in /opt/conda/envs/Python36/lib/python3.6/site-packages (from geopy) (1.49)\n",
                    "name": "stdout"
                }
            ]
        },
        {
            "metadata": {},
            "cell_type": "code",
            "source": "#sample of geopy\nlocation = geolocator.geocode(\"Albany Park, Chicago, Illinois\")\nprint(location.latitude, location.longitude)",
            "execution_count": 7,
            "outputs": [
                {
                    "output_type": "stream",
                    "text": "41.9719367 -87.7161739\n",
                    "name": "stdout"
                }
            ]
        }
    ],
    "metadata": {
        "kernelspec": {
            "name": "python3",
            "display_name": "Python 3.6",
            "language": "python"
        },
        "language_info": {
            "name": "python",
            "version": "3.6.9",
            "mimetype": "text/x-python",
            "codemirror_mode": {
                "name": "ipython",
                "version": 3
            },
            "pygments_lexer": "ipython3",
            "nbconvert_exporter": "python",
            "file_extension": ".py"
        }
    },
    "nbformat": 4,
    "nbformat_minor": 1
}